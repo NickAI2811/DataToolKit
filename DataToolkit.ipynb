{
  "nbformat": 4,
  "nbformat_minor": 0,
  "metadata": {
    "colab": {
      "provenance": []
    },
    "kernelspec": {
      "name": "python3",
      "display_name": "Python 3"
    },
    "language_info": {
      "name": "python"
    }
  },
  "cells": [
    {
      "cell_type": "markdown",
      "source": [
        "** Data Toolkit Questions **"
      ],
      "metadata": {
        "id": "kK-YCA7t3p5L"
      }
    },
    {
      "cell_type": "markdown",
      "source": [
        "Q.1. What is NumPy, and why is it widely used in Python?\n",
        "\n",
        "==> NumPy (short for Numerical Python) is a powerful open-source library in Python designed for numerical computing. It provides support for large, multi-dimensional arrays and matrices, along with a collection of high-level mathematical functions to operate on these arrays efficiently.\n",
        "\n",
        "NumPy widely used in Python...\n",
        "1. Efficient Array Operations\n",
        "\n",
        "2. Broadcasting and Vectorization\n",
        "\n",
        "3. Mathematical Functions\n",
        "\n",
        "4. Foundation for Scientific Libraries\n",
        "\n",
        "5. Interoperability\n",
        "\n",
        "6. Community and Ecosystem"
      ],
      "metadata": {
        "id": "ndshZzF7nTEe"
      }
    },
    {
      "cell_type": "markdown",
      "source": [
        "Q.2. How does broadcasting work in NumPy?\n",
        "\n",
        "==> Broadcasting in NumPy is a powerful mechanism that allows NumPy to perform arithmetic operations on arrays of different shapes without explicitly replicating data. It “broadcasts” the smaller array across the larger one so they have compatible shapes for element-wise operations."
      ],
      "metadata": {
        "id": "1F9Cl-kMnKQR"
      }
    },
    {
      "cell_type": "markdown",
      "source": [
        "Q.3. What is a Pandas DataFrame?\n",
        "\n",
        "==> A Pandas DataFrame is one of the core data structures in the Pandas library, widely used for data analysis and manipulation in Python."
      ],
      "metadata": {
        "id": "5gcOvUoQnQBi"
      }
    },
    {
      "cell_type": "markdown",
      "source": [
        "Q.4. Explain the use of the groupby() method in Pandas.\n",
        "\n",
        "==> The groupby() method in Pandas is a powerful tool used to split data into groups based on some criteria, apply a function to each group independently, and then combine the results. This process is commonly called split-apply-combine."
      ],
      "metadata": {
        "id": "F711CA2GnYV0"
      }
    },
    {
      "cell_type": "markdown",
      "source": [
        "Q.5. Why is seaborn prefereed for statistical visualizations?\n",
        "\n",
        "==> Seaborn is preferred for statistical visualization because it simplifies the creation of complex statistical graphics, integrates well with pandas data, handles statistical aggregation internally, provides attractive defaults, and supports advanced multi-plot visualizations. This makes it a powerful and user-friendly tool for data scientists and analysts working with statistical data."
      ],
      "metadata": {
        "id": "Wk5rz-ZDng7T"
      }
    },
    {
      "cell_type": "markdown",
      "source": [
        "Q.6. What are the diffrences between NumPy arrays and Python lists?\n",
        "\n",
        "==>\n",
        "1. Data Type Consistency\n",
        "NumPy Arrays:\n",
        "All elements must be of the same data type (e.g., all integers or all floats). This uniformity allows for efficient storage and operations.\n",
        "Python Lists:\n",
        "Can hold elements of different types in the same list (e.g., integers, strings, objects mixed together).\n",
        "2. Performance\n",
        "NumPy Arrays:\n",
        "Much faster for numerical computations and large datasets because they are implemented in C and optimized for vectorized operations.\n",
        "Python Lists:\n",
        "Slower for numerical operations since they are general-purpose containers with type flexibility.\n",
        "3. Memory Usage\n",
        "NumPy Arrays:\n",
        "More memory-efficient as they store elements in a contiguous block of memory and use fixed-type elements.\n",
        "Python Lists:\n",
        "Less memory-efficient since they store references to objects, which can be of any type, leading to overhead.\n",
        "4. Operations\n",
        "NumPy Arrays:\n",
        "Support element-wise mathematical operations and broadcasting (e.g., adding two arrays adds each element pairwise without explicit loops).\n",
        "Python Lists:\n",
        "Do not support element-wise arithmetic by default; operations like addition concatenate lists instead of adding element-wise.\n",
        "5. Functionality\n",
        "NumPy Arrays:\n",
        "Offer many powerful mathematical and statistical functions, linear algebra operations, reshaping, slicing, masking, and broadcasting.\n",
        "Python Lists:\n",
        "Provide basic container operations like append, remove, slicing, but no built-in math/vector operations.\n",
        "6. Dimensionality\n",
        "NumPy Arrays:\n",
        "Can be multidimensional (1D, 2D, 3D, etc.) with easy slicing and indexing.\n",
        "Python Lists:\n",
        "Can be nested to simulate multidimensional lists but lack built-in support and efficient operations on them."
      ],
      "metadata": {
        "id": "5qZjUPBWnqti"
      }
    },
    {
      "cell_type": "markdown",
      "source": [
        "Q.7. What is a heatmap, and when should it be used?\n",
        "\n",
        "==> A heatmap is a graphical representation of data where individual values contained in a matrix or table are represented as colors. The color intensity or gradient visually encodes the magnitude or frequency of the values, making it easy to spot patterns, correlations, or anomalies at a glance."
      ],
      "metadata": {
        "id": "LFLGy1qVn9HQ"
      }
    },
    {
      "cell_type": "markdown",
      "source": [
        "Q.8. What does the term \"Vectorized Operation\" mean in NumPy?\n",
        "\n",
        "==> In NumPy, a vectorized operation refers to performing element-wise operations on entire arrays (vectors, matrices, or higher-dimensional arrays) without using explicit Python loops. Instead of iterating over elements one by one, NumPy uses optimized, low-level implementations (usually in C) that operate on whole arrays at once, which is much faster and more efficient."
      ],
      "metadata": {
        "id": "MrDi6PGioExY"
      }
    },
    {
      "cell_type": "markdown",
      "source": [
        "Q.9. How does Matplotlib differ from Plotly?\n",
        "\n",
        "==> Matplotlib: Great for creating a clean, static line chart for a research paper.\n",
        "\n",
        "Plotly: Ideal for a dashboard where users can hover over points to see details or zoom in on areas of interest."
      ],
      "metadata": {
        "id": "84OA0tF-oNz9"
      }
    },
    {
      "cell_type": "markdown",
      "source": [
        "Q.10. What is the significance of hierarchical indexing in Pandas?\n",
        "\n",
        "==> Pandas is a powerful feature that allows you to work with higher-dimensional data in a 2-dimensional DataFrame or Series by enabling multiple levels of indexing on rows and/or columns. Here’s why hierarchical indexing is significant:\n",
        "\n",
        "1. Organizing Complex Data Naturally\n",
        "\n",
        "2. Compact Representation\n",
        "\n",
        "3. Powerful Data Selection and Slicing\n",
        "\n",
        "4. Flexible Aggregation and Grouping\n",
        "\n",
        "5. Enables Pivot-like Structures\n",
        "\n",
        "6. Better Handling of Multi-dimensional Data"
      ],
      "metadata": {
        "id": "1AOOYoORoeBt"
      }
    },
    {
      "cell_type": "markdown",
      "source": [
        "Q.11. What is the role of Seaborn's pairplot() function?\n",
        "\n",
        "==> Seaborn’s pairplot() function is a very handy tool for exploratory data analysis (EDA) that helps you visualize relationships between multiple variables in a dataset quickly.\n",
        "\n",
        "What does pairplot() do?\n",
        "It creates a matrix of scatter plots showing pairwise relationships between all numerical variables (features) in a dataset.\n",
        "On the diagonal, it typically shows univariate distributions (like histograms or KDE plots) for each variable.\n",
        "It allows you to see both correlations and distributions simultaneously."
      ],
      "metadata": {
        "id": "QxziGsAAomu5"
      }
    },
    {
      "cell_type": "markdown",
      "source": [
        "Q.12. What is the purpose of the describe() function in Pandas?\n",
        "\n",
        "==> The describe() function in Pandas serves to generate descriptive statistics of a DataFrame or Series. It provides a concise summary of the data's distribution, including measures of central tendency, dispersion, and shape. For numerical data, describe() calculates the count, mean, standard deviation, minimum, maximum, and percentiles (25th, 50th, and 75th). When applied to object data types (e.g., strings or timestamps), it computes the count, number of unique values, the most frequent value (top), and its frequency. The function excludes NaN values from the calculations.\n"
      ],
      "metadata": {
        "id": "kamoQ5zqovAM"
      }
    },
    {
      "cell_type": "markdown",
      "source": [
        "Q.13. Why is handling missing data important in Pandas?\n",
        "\n",
        "==> Handling missing data in Pandas ensures your analysis is accurate, reliable, and robust by dealing properly with gaps in your dataset instead of ignoring or mishandling them.\n",
        "\n",
        "Why Handling Missing Data Matters in Pandas\n",
        "Accurate Analysis\n",
        "Missing data can bias results or lead to incorrect conclusions if not handled properly. For example, averages or correlations computed with missing values might be misleading.\n",
        "Avoiding Errors\n",
        "Many Pandas functions and machine learning algorithms cannot handle NaNs (missing values) properly and may throw errors or produce unreliable outputs.\n",
        "Improved Data Quality\n",
        "Cleaning or imputing missing data improves the overall quality and consistency of the dataset, making it more trustworthy.\n",
        "Preserving Dataset Size\n",
        "Instead of dropping rows/columns blindly, smart handling (like imputation) allows you to retain more data for analysis, which might be important when data is limited.\n",
        "Better Model Performance\n",
        "Machine learning models often require complete data or benefit from proper imputation techniques to avoid bias and improve accuracy.\n",
        "Correct Statistical Inference\n",
        "Many statistical methods assume complete data; missing values can violate these assumptions and lead to wrong inferences."
      ],
      "metadata": {
        "id": "hiD8bKQro2PP"
      }
    },
    {
      "cell_type": "markdown",
      "source": [
        "Q.14. What are the benefits of using Plotly for data visualization?\n",
        "\n",
        "==>\n",
        "Benefits of Using Plotly for Data Visualization\n",
        "Interactive Visualizations\n",
        "Zoom, pan, hover tooltips, and clickable legends come built-in, enhancing user engagement and data exploration.\n",
        "Users can interact directly with the plots to dig deeper into the data.\n",
        "Wide Range of Plot Types\n",
        "Supports a broad spectrum of charts: scatter, line, bar, pie, box plots, heatmaps, 3D plots, geographic maps, and more.\n",
        "Advanced charts like animations, subplots, and linked views are easily achievable.\n",
        "Web-Ready and Embeddable\n",
        "Generates plots as HTML/JavaScript, which can be embedded into websites, dashboards, and Jupyter notebooks.\n",
        "Easy to share interactive plots on the web or integrate with web frameworks.\n",
        "Cross-Language Support\n",
        "Available in Python, R, Julia, and JavaScript, which makes it versatile across different tech stacks.\n",
        "Integration with Dash\n",
        "Plotly works seamlessly with Dash, Plotly’s open-source framework for building analytical web applications in Python without requiring JavaScript knowledge.\n",
        "High-Quality Graphics\n",
        "Produces visually appealing, publication-quality interactive graphics.\n",
        "Customization and Control\n",
        "Offers fine control over every aspect of the plot — layout, axes, colors, annotations, and interactivity.\n",
        "Real-Time Updates and Streaming\n",
        "Supports real-time data streaming and dynamic updates, useful for live dashboards.\n",
        "Community and Documentation\n",
        "Strong community support and comprehensive documentation with plenty of examples."
      ],
      "metadata": {
        "id": "N2gCYIPPpBPI"
      }
    },
    {
      "cell_type": "markdown",
      "source": [
        "Q.15. How does NumPy handle multidimesnsional arrays?\n",
        "\n",
        "==> NumPy handles multidimensional arrays using the ndarray structure, which supports efficient storage, indexing, slicing, and vectorized operations over any number of dimensions, making it ideal for scientific and numerical computing."
      ],
      "metadata": {
        "id": "UnGV-DqvpIxM"
      }
    },
    {
      "cell_type": "markdown",
      "source": [
        "Q.16. What is the role of Bokeh in data visualization?\n",
        "\n",
        "==> Bokeh is a powerful Python library designed for interactive data visualization in web browsers. Its role is to help you create rich, elegant, and interactive plots and dashboards that can be easily embedded in web applications or viewed standalone."
      ],
      "metadata": {
        "id": "iFzxATmmpStF"
      }
    },
    {
      "cell_type": "markdown",
      "source": [
        "Q.17. Explain the difference between apply() and map() in Pandas?\n",
        "\n",
        "==> Both apply() and map() are used in Pandas to apply functions to data, but they have different use cases and work differently:\n",
        "\n",
        "map()\n",
        "Used mainly on a Pandas Series.\n",
        "Applies a function, dictionary, or Series element-wise to each value in the Series.\n",
        "Best suited for simple element-wise transformations or value mappings.\n",
        "Returns a Series of the same shape.\n",
        "Can be used for mapping values or replacing values based on a dictionary or a function.\n",
        "\n",
        "\n",
        "apply()\n",
        "Can be used on both Series and DataFrames.\n",
        "Applies a function along an axis of the DataFrame (rows or columns) or element-wise on a Series.\n",
        "More flexible and powerful, as the function can work on the whole row, column, or single element.\n",
        "Used for complex transformations or aggregations that need access to multiple elements at once.\n",
        "When used on DataFrame, you specify the axis: axis=0 for columns, axis=1 for rows.\n"
      ],
      "metadata": {
        "id": "ig1hzj8tphL5"
      }
    },
    {
      "cell_type": "markdown",
      "source": [
        "Q.18. What are some advanced features of NumPy?\n",
        "\n",
        "==> NumPy is not just about basic arrays and simple operations — it also offers many advanced features that make it powerful for scientific computing and numerical analysis. Here are some key advanced features of NumPy:\n",
        "\n",
        "1. Broadcasting\n",
        "\n",
        "2. Structured Arrays (Record Arrays)\n",
        "\n",
        "3. Masked Arrays\n",
        "\n",
        "4. Fancy Indexing and Boolean Indexing\n",
        "\n",
        "5. Linear Algebra Module (numpy.linalg)\n",
        "\n",
        "6. FFT (Fast Fourier Transform)\n",
        "\n",
        "7. Random Number Generation\n",
        "\n",
        "8. Memory Mapping\n",
        "\n",
        "9. Vectorization\n",
        "\n",
        "10. Integration with C, C++, Fortran\n",
        "\n",
        "11. Advanced Universal Functions (ufuncs)\n",
        "\n",
        "12. Data Broadcasting with np.einsum"
      ],
      "metadata": {
        "id": "y_blMT-BpoSV"
      }
    },
    {
      "cell_type": "markdown",
      "source": [
        "Q.19. How does Pnadas simplify time series analysis?\n",
        "\n",
        "==> Pandas greatly simplifies time series analysis by providing powerful, easy-to-use features tailored specifically for working with time-indexed data. Here’s how Pandas helps:\n",
        "\n",
        "1. DateTime Indexing\n",
        "\n",
        "2. Resampling and Frequency Conversion\n",
        "\n",
        "3. Shifting and Lagging\n",
        "\n",
        "4. Rolling Window Calculations\n",
        "\n",
        "5. Handling Missing Dates and Data\n",
        "\n",
        "6. Time Zone Handling\n",
        "\n",
        "7. Date and Time Components Access\n",
        "\n",
        "8. Integration with Plotting"
      ],
      "metadata": {
        "id": "rjnBxN5wxypV"
      }
    },
    {
      "cell_type": "markdown",
      "source": [
        "Q.20. What is the role of a pivot table in Pandas?\n",
        "\n",
        "==> A pivot table in Pandas is a powerful tool used to summarize, aggregate, and reorganize data in a DataFrame, much like pivot tables in Excel. It helps you transform data from a long format into a more readable and insightful table, making it easier to analyze and compare different categories."
      ],
      "metadata": {
        "id": "YktiiK-Ox5Ef"
      }
    },
    {
      "cell_type": "markdown",
      "source": [
        "Q.21. Why is NumPy's array slicing faster than Python's list slicing?\n",
        "\n",
        "==> NumPy's array slicing is generally faster than Python's list slicing due to several key reasons:\n",
        "\n",
        "1. Contiguous Memory Layout\n",
        "\n",
        "2. View vs Copy\n",
        "\n",
        "3. Homogeneous Data Types\n",
        "\n",
        "4. Optimized C Implementation"
      ],
      "metadata": {
        "id": "jP_Na33kx__e"
      }
    },
    {
      "cell_type": "markdown",
      "source": [
        "Q.22. What are some common use cases for Seaborn?\n",
        "\n",
        "==> Here are some common use cases for Seaborn:\n",
        "\n",
        "1. Visualizing Distributions\n",
        "\n",
        "2. Visualizing Relationships Between Variables\n",
        "\n",
        "3. Categorical Data Visualization\n",
        "\n",
        "4. Heatmaps\n",
        "\n",
        "5. Time Series Visualization\n",
        "\n",
        "6. Faceted Plots\n",
        "\n",
        "7. Enhancing Matplotlib Plots"
      ],
      "metadata": {
        "id": "ZwfUtwaMyPG6"
      }
    },
    {
      "cell_type": "markdown",
      "source": [],
      "metadata": {
        "id": "hx_dPzYCyX2h"
      }
    },
    {
      "cell_type": "markdown",
      "source": [
        "********** Practical Questions **********"
      ],
      "metadata": {
        "id": "OpYeiN3zyZw_"
      }
    },
    {
      "cell_type": "markdown",
      "source": [
        "Q.1. How do you create a 2D NumPy aray and calculate the sum of each row?"
      ],
      "metadata": {
        "id": "aqcIGCqRyfS1"
      }
    },
    {
      "cell_type": "code",
      "source": [
        "import numpy as np\n",
        "\n",
        "# Create a 2D NumPy array\n",
        "arr = np.array([[1, 2, 3],\n",
        "                [4, 5, 6],\n",
        "                [7, 8, 9]])\n",
        "\n",
        "# Calculate the sum of each row\n",
        "row_sums = np.sum(arr, axis=1)\n",
        "\n",
        "print(\"2D Array:\")\n",
        "print(arr)\n",
        "print(\"\\nSum of each row:\")\n",
        "print(row_sums)\n"
      ],
      "metadata": {
        "id": "8oLC2V57yv1l"
      },
      "execution_count": null,
      "outputs": []
    },
    {
      "cell_type": "markdown",
      "source": [
        "Q.2. Write a Pandas script to find the mean of a specific column in a DataFrame."
      ],
      "metadata": {
        "id": "8BXdEDBoywO7"
      }
    },
    {
      "cell_type": "code",
      "source": [
        "import pandas as pd\n",
        "\n",
        "# Sample DataFrame\n",
        "data = {\n",
        "    'Name': ['Alice', 'Bob', 'Charlie', 'David'],\n",
        "    'Age': [25, 30, 35, 40]\n",
        "}\n",
        "df = pd.DataFrame(data)\n",
        "\n",
        "# Calculate the mean of the 'Age' column\n",
        "mean_age = df['Age'].mean()\n",
        "\n",
        "print(f\"The mean age is: {mean_age}\")\n"
      ],
      "metadata": {
        "id": "ejqesOx1y8zM"
      },
      "execution_count": null,
      "outputs": []
    },
    {
      "cell_type": "markdown",
      "source": [
        "Q.3. Create a scatter plot using Matplotlib."
      ],
      "metadata": {
        "id": "rF2SlhtNy_8a"
      }
    },
    {
      "cell_type": "code",
      "source": [
        "import matplotlib.pyplot as plt\n",
        "\n",
        "# Sample data\n",
        "x = [5, 7, 8, 5, 6, 7, 8, 9]\n",
        "y = [12, 14, 15, 10, 8, 11, 14, 13]\n",
        "\n",
        "# Create scatter plot\n",
        "plt.scatter(x, y, color='blue', marker='o')\n",
        "\n",
        "# Add title and labels\n",
        "plt.title('Sample Scatter Plot')\n",
        "plt.xlabel('X-axis values')\n",
        "plt.ylabel('Y-axis values')\n",
        "\n",
        "# Show plot\n",
        "plt.show()\n"
      ],
      "metadata": {
        "id": "7b-NwIZCzH5R"
      },
      "execution_count": null,
      "outputs": []
    },
    {
      "cell_type": "markdown",
      "source": [
        "Q.4. How do you calculate the correlation matrix using Seaborn and visualize it with a heatmap?"
      ],
      "metadata": {
        "id": "5AuJM2PszIT0"
      }
    },
    {
      "cell_type": "code",
      "source": [
        "import seaborn as sns\n",
        "import pandas as pd\n",
        "import numpy as np\n",
        "import matplotlib.pyplot as plt\n",
        "\n",
        "# Sample data\n",
        "np.random.seed(0)\n",
        "data = pd.DataFrame({\n",
        "    'A': np.random.randn(100),\n",
        "    'B': np.random.randn(100) * 2,\n",
        "    'C': np.random.randn(100) + 5,\n",
        "    'D': np.random.randn(100) * -1\n",
        "})\n",
        "\n",
        "# Calculate correlation matrix\n",
        "corr_matrix = data.corr()\n",
        "\n",
        "# Plot heatmap\n",
        "sns.heatmap(corr_matrix, annot=True, cmap='coolwarm', center=0)\n",
        "\n",
        "# Add title\n",
        "plt.title('Correlation Matrix Heatmap')\n",
        "\n",
        "plt.show()\n"
      ],
      "metadata": {
        "id": "evIe0o-eza44"
      },
      "execution_count": null,
      "outputs": []
    },
    {
      "cell_type": "markdown",
      "source": [
        "Q.5. Generate a bar plot using Plotly."
      ],
      "metadata": {
        "id": "vMKpNu8Hzdno"
      }
    },
    {
      "cell_type": "code",
      "source": [
        "import plotly.graph_objects as go\n",
        "\n",
        "# Sample data\n",
        "categories = ['A', 'B', 'C', 'D']\n",
        "values = [10, 15, 7, 12]\n",
        "\n",
        "# Create bar plot\n",
        "fig = go.Figure(data=[go.Bar(x=categories, y=values)])\n",
        "\n",
        "# Add title and axis labels\n",
        "fig.update_layout(\n",
        "    title='Sample Bar Plot',\n",
        "    xaxis_title='Categories',\n",
        "    yaxis_title='Values'\n",
        ")\n",
        "\n",
        "# Show the plot\n",
        "fig.show()"
      ],
      "metadata": {
        "id": "oWgytMQRzmHz"
      },
      "execution_count": null,
      "outputs": []
    },
    {
      "cell_type": "markdown",
      "source": [
        "Q.6. Create a DataFrame and add a new column based on an existing column."
      ],
      "metadata": {
        "id": "uTB5m730zmlC"
      }
    },
    {
      "cell_type": "code",
      "source": [
        "import pandas as pd\n",
        "\n",
        "# Create a sample DataFrame\n",
        "data = {\n",
        "    'Name': ['Alice', 'Bob', 'Charlie', 'David'],\n",
        "    'Age': [25, 30, 35, 40]\n",
        "}\n",
        "df = pd.DataFrame(data)\n",
        "\n",
        "# Add a new column 'Age_in_5_years' based on existing 'Age' column\n",
        "df['Age_in_5_years'] = df['Age'] + 5\n",
        "\n",
        "# Display the DataFrame\n",
        "print(df)\n"
      ],
      "metadata": {
        "id": "ENds2Y4I0Ejj"
      },
      "execution_count": null,
      "outputs": []
    },
    {
      "cell_type": "markdown",
      "source": [
        "Q.7. Write a program to perform element-wise multiplication of two NumPy arrays."
      ],
      "metadata": {
        "id": "v_WQ1smW0E4n"
      }
    },
    {
      "cell_type": "code",
      "source": [
        "import numpy as np\n",
        "\n",
        "# Define two arrays\n",
        "array1 = np.array([1, 2, 3, 4])\n",
        "array2 = np.array([5, 6, 7, 8])\n",
        "\n",
        "# Element-wise multiplication\n",
        "result = array1 * array2\n",
        "\n",
        "# Display the result\n",
        "print(\"Element-wise multiplication result:\")\n",
        "print(result)\n"
      ],
      "metadata": {
        "id": "ZR5JPDbd0TuG"
      },
      "execution_count": null,
      "outputs": []
    },
    {
      "cell_type": "markdown",
      "source": [
        "Q.8. Create a line plot with multiple lines using Matplotlib."
      ],
      "metadata": {
        "id": "vKadPVfZ0UBH"
      }
    },
    {
      "cell_type": "code",
      "source": [
        "import matplotlib.pyplot as plt\n",
        "import numpy as np\n",
        "\n",
        "# Sample data\n",
        "x = np.linspace(0, 10, 100)\n",
        "y1 = np.sin(x)\n",
        "y2 = np.cos(x)\n",
        "y3 = np.sin(x + np.pi / 4)\n",
        "\n",
        "# Create line plot\n",
        "plt.plot(x, y1, label='sin(x)', color='blue', linestyle='-')\n",
        "plt.plot(x, y2, label='cos(x)', color='green', linestyle='--')\n",
        "plt.plot(x, y3, label='sin(x + π/4)', color='red', linestyle=':')\n",
        "\n",
        "# Add title and labels\n",
        "plt.title('Line Plot with Multiple Lines')\n",
        "plt.xlabel('X Axis')\n",
        "plt.ylabel('Y Axis')\n",
        "\n",
        "# Show legend\n",
        "plt.legend()\n",
        "\n",
        "# Display the plot\n",
        "plt.grid(True)\n",
        "plt.show()\n"
      ],
      "metadata": {
        "id": "ZL1JvcqX0fsQ"
      },
      "execution_count": null,
      "outputs": []
    },
    {
      "cell_type": "markdown",
      "source": [
        "Q.9. Generate a Pandas DataFrame and filter rows where a column value is greater than a threshold."
      ],
      "metadata": {
        "id": "zgLjwipm0f-N"
      }
    },
    {
      "cell_type": "code",
      "source": [
        "import pandas as pd\n",
        "\n",
        "# Step 1: Create a DataFrame\n",
        "data = {\n",
        "    'Name': ['Alice', 'Bob', 'Charlie', 'David', 'Eva'],\n",
        "    'Score': [85, 42, 90, 76, 58]\n",
        "}\n",
        "\n",
        "df = pd.DataFrame(data)\n",
        "\n",
        "# Step 2: Define a threshold\n",
        "threshold = 70\n",
        "\n",
        "# Step 3: Filter rows where 'Score' > threshold\n",
        "filtered_df = df[df['Score'] > threshold]\n",
        "\n",
        "# Display the filtered DataFrame\n",
        "print(\"Filtered DataFrame (Score > 70):\")\n",
        "print(filtered_df)"
      ],
      "metadata": {
        "id": "GMTlfnM00teV"
      },
      "execution_count": null,
      "outputs": []
    },
    {
      "cell_type": "markdown",
      "source": [
        "Q.10. Create a histogram using Seaborn to visualize a distribution."
      ],
      "metadata": {
        "id": "BhfDg7MS0tyB"
      }
    },
    {
      "cell_type": "code",
      "source": [
        "import seaborn as sns\n",
        "import matplotlib.pyplot as plt\n",
        "import numpy as np\n",
        "\n",
        "# Generate sample data\n",
        "data = np.random.randn(1000)\n",
        "\n",
        "# Create histogram\n",
        "sns.histplot(data, bins=30, kde=True, color='skyblue')\n",
        "\n",
        "# Add labels and title\n",
        "plt.title('Histogram of Sample Data')\n",
        "plt.xlabel('Value')\n",
        "plt.ylabel('Frequency')\n",
        "\n",
        "# Show plot\n",
        "plt.show()\n"
      ],
      "metadata": {
        "id": "zHCYx9Xk036O"
      },
      "execution_count": null,
      "outputs": []
    },
    {
      "cell_type": "markdown",
      "source": [
        "Q.11. Perform matrix multiplication using NumPy."
      ],
      "metadata": {
        "id": "uXYf2abL04L8"
      }
    },
    {
      "cell_type": "code",
      "source": [
        "import numpy as np\n",
        "\n",
        "A = np.array([[1, 2],\n",
        "              [3, 4]])\n",
        "\n",
        "B = np.array([[5, 6],\n",
        "              [7, 8]])\n",
        "\n",
        "result1 = A @ B\n",
        "\n",
        "result2 = np.dot(A, B)\n",
        "\n",
        "result3 = np.matmul(A, B)\n",
        "\n",
        "print(\"Using @ operator:\\n\", result1)\n",
        "print(\"Using np.dot():\\n\", result2)\n",
        "print(\"Using np.matmul():\\n\", result3)\n"
      ],
      "metadata": {
        "colab": {
          "base_uri": "https://localhost:8080/"
        },
        "id": "Kg7_AGVb084y",
        "outputId": "b04fde4f-c53c-44bb-fbae-7d660126e3ae"
      },
      "execution_count": 2,
      "outputs": [
        {
          "output_type": "stream",
          "name": "stdout",
          "text": [
            "Using @ operator:\n",
            " [[19 22]\n",
            " [43 50]]\n",
            "Using np.dot():\n",
            " [[19 22]\n",
            " [43 50]]\n",
            "Using np.matmul():\n",
            " [[19 22]\n",
            " [43 50]]\n"
          ]
        }
      ]
    },
    {
      "cell_type": "markdown",
      "source": [
        "Q.12. Use Pandas to load a csv file and and display its first 5 rows."
      ],
      "metadata": {
        "id": "PBgG_NCO09L_"
      }
    },
    {
      "cell_type": "code",
      "source": [
        "import pandas as pd\n",
        "\n",
        "df = pd.read_csv('your_file.csv')\n",
        "\n",
        "print(df.head())\n"
      ],
      "metadata": {
        "id": "9nDWjfln1Fru"
      },
      "execution_count": null,
      "outputs": []
    },
    {
      "cell_type": "markdown",
      "source": [
        "Q.13. Create a 3D scatter plot using Plotly."
      ],
      "metadata": {
        "id": "1UofSklE1F4J"
      }
    },
    {
      "cell_type": "code",
      "source": [
        "import plotly.graph_objects as go\n",
        "import numpy as np\n",
        "\n",
        "np.random.seed(42)\n",
        "x = np.random.rand(50)\n",
        "y = np.random.rand(50)\n",
        "z = np.random.rand(50)\n",
        "\n",
        "fig = go.Figure(data=[go.Scatter3d(\n",
        "    x=x,\n",
        "    y=y,\n",
        "    z=z,\n",
        "    mode='markers',\n",
        "    marker=dict(\n",
        "        size=6,\n",
        "        color=z,\n",
        "        colorscale='Viridis',\n",
        "        opacity=0.8\n",
        "    )\n",
        ")])\n",
        "\n",
        "fig.update_layout(\n",
        "    title=\"3D Scatter Plot\",\n",
        "    scene=dict(\n",
        "        xaxis_title='X Axis',\n",
        "        yaxis_title='Y Axis',\n",
        "        zaxis_title='Z Axis'\n",
        "    )\n",
        ")\n",
        "\n",
        "fig.show()\n"
      ],
      "metadata": {
        "colab": {
          "base_uri": "https://localhost:8080/",
          "height": 542
        },
        "id": "FVdSm6m41MSI",
        "outputId": "fe0542d1-e334-46ed-ca67-fd0b24ff96d6"
      },
      "execution_count": 1,
      "outputs": [
        {
          "output_type": "display_data",
          "data": {
            "text/html": [
              "<html>\n",
              "<head><meta charset=\"utf-8\" /></head>\n",
              "<body>\n",
              "    <div>            <script src=\"https://cdnjs.cloudflare.com/ajax/libs/mathjax/2.7.5/MathJax.js?config=TeX-AMS-MML_SVG\"></script><script type=\"text/javascript\">if (window.MathJax && window.MathJax.Hub && window.MathJax.Hub.Config) {window.MathJax.Hub.Config({SVG: {font: \"STIX-Web\"}});}</script>                <script type=\"text/javascript\">window.PlotlyConfig = {MathJaxConfig: 'local'};</script>\n",
              "        <script charset=\"utf-8\" src=\"https://cdn.plot.ly/plotly-2.35.2.min.js\"></script>                <div id=\"4e622dbe-6af9-4fe7-8cf3-0e4f8c02da4d\" class=\"plotly-graph-div\" style=\"height:525px; width:100%;\"></div>            <script type=\"text/javascript\">                                    window.PLOTLYENV=window.PLOTLYENV || {};                                    if (document.getElementById(\"4e622dbe-6af9-4fe7-8cf3-0e4f8c02da4d\")) {                    Plotly.newPlot(                        \"4e622dbe-6af9-4fe7-8cf3-0e4f8c02da4d\",                        [{\"marker\":{\"color\":[0.03142918568673425,0.6364104112637804,0.3143559810763267,0.5085706911647028,0.907566473926093,0.24929222914887494,0.41038292303562973,0.7555511385430487,0.22879816549162246,0.07697990982879299,0.289751452913768,0.16122128725400442,0.9296976523425731,0.808120379564417,0.6334037565104235,0.8714605901877177,0.8036720768991145,0.18657005888603584,0.8925589984899778,0.5393422419156507,0.8074401551640625,0.8960912999234932,0.3180034749718639,0.11005192452767676,0.22793516254194168,0.4271077886262563,0.8180147659224931,0.8607305832563434,0.006952130531190703,0.5107473025775657,0.417411003148779,0.22210781047073025,0.1198653673336828,0.33761517140362796,0.9429097039125192,0.32320293202075523,0.5187906217433661,0.7030189588951778,0.363629602379294,0.9717820827209607,0.9624472949421112,0.25178229582536416,0.49724850589238545,0.30087830981676966,0.2848404943774676,0.036886947354532795,0.6095643339798968,0.5026790232288615,0.05147875124998935,0.27864646423661144],\"colorscale\":[[0.0,\"#440154\"],[0.1111111111111111,\"#482878\"],[0.2222222222222222,\"#3e4989\"],[0.3333333333333333,\"#31688e\"],[0.4444444444444444,\"#26828e\"],[0.5555555555555556,\"#1f9e89\"],[0.6666666666666666,\"#35b779\"],[0.7777777777777778,\"#6ece58\"],[0.8888888888888888,\"#b5de2b\"],[1.0,\"#fde725\"]],\"opacity\":0.8,\"size\":6},\"mode\":\"markers\",\"x\":[0.3745401188473625,0.9507143064099162,0.7319939418114051,0.5986584841970366,0.15601864044243652,0.15599452033620265,0.05808361216819946,0.8661761457749352,0.6011150117432088,0.7080725777960455,0.020584494295802447,0.9699098521619943,0.8324426408004217,0.21233911067827616,0.18182496720710062,0.18340450985343382,0.3042422429595377,0.5247564316322378,0.43194501864211576,0.2912291401980419,0.6118528947223795,0.13949386065204183,0.29214464853521815,0.3663618432936917,0.45606998421703593,0.7851759613930136,0.19967378215835974,0.5142344384136116,0.5924145688620425,0.046450412719997725,0.6075448519014384,0.17052412368729153,0.06505159298527952,0.9488855372533332,0.9656320330745594,0.8083973481164611,0.3046137691733707,0.09767211400638387,0.6842330265121569,0.4401524937396013,0.12203823484477883,0.4951769101112702,0.034388521115218396,0.9093204020787821,0.2587799816000169,0.662522284353982,0.31171107608941095,0.5200680211778108,0.5467102793432796,0.18485445552552704],\"y\":[0.9695846277645586,0.7751328233611146,0.9394989415641891,0.8948273504276488,0.5978999788110851,0.9218742350231168,0.0884925020519195,0.1959828624191452,0.045227288910538066,0.32533033076326434,0.388677289689482,0.2713490317738959,0.8287375091519293,0.3567533266935893,0.28093450968738076,0.5426960831582485,0.14092422497476265,0.8021969807540397,0.07455064367977082,0.9868869366005173,0.7722447692966574,0.1987156815341724,0.005522117123602399,0.8154614284548342,0.7068573438476171,0.7290071680409873,0.7712703466859457,0.07404465173409036,0.3584657285442726,0.11586905952512971,0.8631034258755935,0.6232981268275579,0.3308980248526492,0.06355835028602363,0.3109823217156622,0.32518332202674705,0.7296061783380641,0.6375574713552131,0.8872127425763265,0.4722149251619493,0.1195942459383017,0.713244787222995,0.7607850486168974,0.5612771975694962,0.770967179954561,0.49379559636439074,0.5227328293819941,0.42754101835854963,0.02541912674409519,0.10789142699330445],\"z\":[0.03142918568673425,0.6364104112637804,0.3143559810763267,0.5085706911647028,0.907566473926093,0.24929222914887494,0.41038292303562973,0.7555511385430487,0.22879816549162246,0.07697990982879299,0.289751452913768,0.16122128725400442,0.9296976523425731,0.808120379564417,0.6334037565104235,0.8714605901877177,0.8036720768991145,0.18657005888603584,0.8925589984899778,0.5393422419156507,0.8074401551640625,0.8960912999234932,0.3180034749718639,0.11005192452767676,0.22793516254194168,0.4271077886262563,0.8180147659224931,0.8607305832563434,0.006952130531190703,0.5107473025775657,0.417411003148779,0.22210781047073025,0.1198653673336828,0.33761517140362796,0.9429097039125192,0.32320293202075523,0.5187906217433661,0.7030189588951778,0.363629602379294,0.9717820827209607,0.9624472949421112,0.25178229582536416,0.49724850589238545,0.30087830981676966,0.2848404943774676,0.036886947354532795,0.6095643339798968,0.5026790232288615,0.05147875124998935,0.27864646423661144],\"type\":\"scatter3d\"}],                        {\"template\":{\"data\":{\"histogram2dcontour\":[{\"type\":\"histogram2dcontour\",\"colorbar\":{\"outlinewidth\":0,\"ticks\":\"\"},\"colorscale\":[[0.0,\"#0d0887\"],[0.1111111111111111,\"#46039f\"],[0.2222222222222222,\"#7201a8\"],[0.3333333333333333,\"#9c179e\"],[0.4444444444444444,\"#bd3786\"],[0.5555555555555556,\"#d8576b\"],[0.6666666666666666,\"#ed7953\"],[0.7777777777777778,\"#fb9f3a\"],[0.8888888888888888,\"#fdca26\"],[1.0,\"#f0f921\"]]}],\"choropleth\":[{\"type\":\"choropleth\",\"colorbar\":{\"outlinewidth\":0,\"ticks\":\"\"}}],\"histogram2d\":[{\"type\":\"histogram2d\",\"colorbar\":{\"outlinewidth\":0,\"ticks\":\"\"},\"colorscale\":[[0.0,\"#0d0887\"],[0.1111111111111111,\"#46039f\"],[0.2222222222222222,\"#7201a8\"],[0.3333333333333333,\"#9c179e\"],[0.4444444444444444,\"#bd3786\"],[0.5555555555555556,\"#d8576b\"],[0.6666666666666666,\"#ed7953\"],[0.7777777777777778,\"#fb9f3a\"],[0.8888888888888888,\"#fdca26\"],[1.0,\"#f0f921\"]]}],\"heatmap\":[{\"type\":\"heatmap\",\"colorbar\":{\"outlinewidth\":0,\"ticks\":\"\"},\"colorscale\":[[0.0,\"#0d0887\"],[0.1111111111111111,\"#46039f\"],[0.2222222222222222,\"#7201a8\"],[0.3333333333333333,\"#9c179e\"],[0.4444444444444444,\"#bd3786\"],[0.5555555555555556,\"#d8576b\"],[0.6666666666666666,\"#ed7953\"],[0.7777777777777778,\"#fb9f3a\"],[0.8888888888888888,\"#fdca26\"],[1.0,\"#f0f921\"]]}],\"heatmapgl\":[{\"type\":\"heatmapgl\",\"colorbar\":{\"outlinewidth\":0,\"ticks\":\"\"},\"colorscale\":[[0.0,\"#0d0887\"],[0.1111111111111111,\"#46039f\"],[0.2222222222222222,\"#7201a8\"],[0.3333333333333333,\"#9c179e\"],[0.4444444444444444,\"#bd3786\"],[0.5555555555555556,\"#d8576b\"],[0.6666666666666666,\"#ed7953\"],[0.7777777777777778,\"#fb9f3a\"],[0.8888888888888888,\"#fdca26\"],[1.0,\"#f0f921\"]]}],\"contourcarpet\":[{\"type\":\"contourcarpet\",\"colorbar\":{\"outlinewidth\":0,\"ticks\":\"\"}}],\"contour\":[{\"type\":\"contour\",\"colorbar\":{\"outlinewidth\":0,\"ticks\":\"\"},\"colorscale\":[[0.0,\"#0d0887\"],[0.1111111111111111,\"#46039f\"],[0.2222222222222222,\"#7201a8\"],[0.3333333333333333,\"#9c179e\"],[0.4444444444444444,\"#bd3786\"],[0.5555555555555556,\"#d8576b\"],[0.6666666666666666,\"#ed7953\"],[0.7777777777777778,\"#fb9f3a\"],[0.8888888888888888,\"#fdca26\"],[1.0,\"#f0f921\"]]}],\"surface\":[{\"type\":\"surface\",\"colorbar\":{\"outlinewidth\":0,\"ticks\":\"\"},\"colorscale\":[[0.0,\"#0d0887\"],[0.1111111111111111,\"#46039f\"],[0.2222222222222222,\"#7201a8\"],[0.3333333333333333,\"#9c179e\"],[0.4444444444444444,\"#bd3786\"],[0.5555555555555556,\"#d8576b\"],[0.6666666666666666,\"#ed7953\"],[0.7777777777777778,\"#fb9f3a\"],[0.8888888888888888,\"#fdca26\"],[1.0,\"#f0f921\"]]}],\"mesh3d\":[{\"type\":\"mesh3d\",\"colorbar\":{\"outlinewidth\":0,\"ticks\":\"\"}}],\"scatter\":[{\"fillpattern\":{\"fillmode\":\"overlay\",\"size\":10,\"solidity\":0.2},\"type\":\"scatter\"}],\"parcoords\":[{\"type\":\"parcoords\",\"line\":{\"colorbar\":{\"outlinewidth\":0,\"ticks\":\"\"}}}],\"scatterpolargl\":[{\"type\":\"scatterpolargl\",\"marker\":{\"colorbar\":{\"outlinewidth\":0,\"ticks\":\"\"}}}],\"bar\":[{\"error_x\":{\"color\":\"#2a3f5f\"},\"error_y\":{\"color\":\"#2a3f5f\"},\"marker\":{\"line\":{\"color\":\"#E5ECF6\",\"width\":0.5},\"pattern\":{\"fillmode\":\"overlay\",\"size\":10,\"solidity\":0.2}},\"type\":\"bar\"}],\"scattergeo\":[{\"type\":\"scattergeo\",\"marker\":{\"colorbar\":{\"outlinewidth\":0,\"ticks\":\"\"}}}],\"scatterpolar\":[{\"type\":\"scatterpolar\",\"marker\":{\"colorbar\":{\"outlinewidth\":0,\"ticks\":\"\"}}}],\"histogram\":[{\"marker\":{\"pattern\":{\"fillmode\":\"overlay\",\"size\":10,\"solidity\":0.2}},\"type\":\"histogram\"}],\"scattergl\":[{\"type\":\"scattergl\",\"marker\":{\"colorbar\":{\"outlinewidth\":0,\"ticks\":\"\"}}}],\"scatter3d\":[{\"type\":\"scatter3d\",\"line\":{\"colorbar\":{\"outlinewidth\":0,\"ticks\":\"\"}},\"marker\":{\"colorbar\":{\"outlinewidth\":0,\"ticks\":\"\"}}}],\"scattermapbox\":[{\"type\":\"scattermapbox\",\"marker\":{\"colorbar\":{\"outlinewidth\":0,\"ticks\":\"\"}}}],\"scatterternary\":[{\"type\":\"scatterternary\",\"marker\":{\"colorbar\":{\"outlinewidth\":0,\"ticks\":\"\"}}}],\"scattercarpet\":[{\"type\":\"scattercarpet\",\"marker\":{\"colorbar\":{\"outlinewidth\":0,\"ticks\":\"\"}}}],\"carpet\":[{\"aaxis\":{\"endlinecolor\":\"#2a3f5f\",\"gridcolor\":\"white\",\"linecolor\":\"white\",\"minorgridcolor\":\"white\",\"startlinecolor\":\"#2a3f5f\"},\"baxis\":{\"endlinecolor\":\"#2a3f5f\",\"gridcolor\":\"white\",\"linecolor\":\"white\",\"minorgridcolor\":\"white\",\"startlinecolor\":\"#2a3f5f\"},\"type\":\"carpet\"}],\"table\":[{\"cells\":{\"fill\":{\"color\":\"#EBF0F8\"},\"line\":{\"color\":\"white\"}},\"header\":{\"fill\":{\"color\":\"#C8D4E3\"},\"line\":{\"color\":\"white\"}},\"type\":\"table\"}],\"barpolar\":[{\"marker\":{\"line\":{\"color\":\"#E5ECF6\",\"width\":0.5},\"pattern\":{\"fillmode\":\"overlay\",\"size\":10,\"solidity\":0.2}},\"type\":\"barpolar\"}],\"pie\":[{\"automargin\":true,\"type\":\"pie\"}]},\"layout\":{\"autotypenumbers\":\"strict\",\"colorway\":[\"#636efa\",\"#EF553B\",\"#00cc96\",\"#ab63fa\",\"#FFA15A\",\"#19d3f3\",\"#FF6692\",\"#B6E880\",\"#FF97FF\",\"#FECB52\"],\"font\":{\"color\":\"#2a3f5f\"},\"hovermode\":\"closest\",\"hoverlabel\":{\"align\":\"left\"},\"paper_bgcolor\":\"white\",\"plot_bgcolor\":\"#E5ECF6\",\"polar\":{\"bgcolor\":\"#E5ECF6\",\"angularaxis\":{\"gridcolor\":\"white\",\"linecolor\":\"white\",\"ticks\":\"\"},\"radialaxis\":{\"gridcolor\":\"white\",\"linecolor\":\"white\",\"ticks\":\"\"}},\"ternary\":{\"bgcolor\":\"#E5ECF6\",\"aaxis\":{\"gridcolor\":\"white\",\"linecolor\":\"white\",\"ticks\":\"\"},\"baxis\":{\"gridcolor\":\"white\",\"linecolor\":\"white\",\"ticks\":\"\"},\"caxis\":{\"gridcolor\":\"white\",\"linecolor\":\"white\",\"ticks\":\"\"}},\"coloraxis\":{\"colorbar\":{\"outlinewidth\":0,\"ticks\":\"\"}},\"colorscale\":{\"sequential\":[[0.0,\"#0d0887\"],[0.1111111111111111,\"#46039f\"],[0.2222222222222222,\"#7201a8\"],[0.3333333333333333,\"#9c179e\"],[0.4444444444444444,\"#bd3786\"],[0.5555555555555556,\"#d8576b\"],[0.6666666666666666,\"#ed7953\"],[0.7777777777777778,\"#fb9f3a\"],[0.8888888888888888,\"#fdca26\"],[1.0,\"#f0f921\"]],\"sequentialminus\":[[0.0,\"#0d0887\"],[0.1111111111111111,\"#46039f\"],[0.2222222222222222,\"#7201a8\"],[0.3333333333333333,\"#9c179e\"],[0.4444444444444444,\"#bd3786\"],[0.5555555555555556,\"#d8576b\"],[0.6666666666666666,\"#ed7953\"],[0.7777777777777778,\"#fb9f3a\"],[0.8888888888888888,\"#fdca26\"],[1.0,\"#f0f921\"]],\"diverging\":[[0,\"#8e0152\"],[0.1,\"#c51b7d\"],[0.2,\"#de77ae\"],[0.3,\"#f1b6da\"],[0.4,\"#fde0ef\"],[0.5,\"#f7f7f7\"],[0.6,\"#e6f5d0\"],[0.7,\"#b8e186\"],[0.8,\"#7fbc41\"],[0.9,\"#4d9221\"],[1,\"#276419\"]]},\"xaxis\":{\"gridcolor\":\"white\",\"linecolor\":\"white\",\"ticks\":\"\",\"title\":{\"standoff\":15},\"zerolinecolor\":\"white\",\"automargin\":true,\"zerolinewidth\":2},\"yaxis\":{\"gridcolor\":\"white\",\"linecolor\":\"white\",\"ticks\":\"\",\"title\":{\"standoff\":15},\"zerolinecolor\":\"white\",\"automargin\":true,\"zerolinewidth\":2},\"scene\":{\"xaxis\":{\"backgroundcolor\":\"#E5ECF6\",\"gridcolor\":\"white\",\"linecolor\":\"white\",\"showbackground\":true,\"ticks\":\"\",\"zerolinecolor\":\"white\",\"gridwidth\":2},\"yaxis\":{\"backgroundcolor\":\"#E5ECF6\",\"gridcolor\":\"white\",\"linecolor\":\"white\",\"showbackground\":true,\"ticks\":\"\",\"zerolinecolor\":\"white\",\"gridwidth\":2},\"zaxis\":{\"backgroundcolor\":\"#E5ECF6\",\"gridcolor\":\"white\",\"linecolor\":\"white\",\"showbackground\":true,\"ticks\":\"\",\"zerolinecolor\":\"white\",\"gridwidth\":2}},\"shapedefaults\":{\"line\":{\"color\":\"#2a3f5f\"}},\"annotationdefaults\":{\"arrowcolor\":\"#2a3f5f\",\"arrowhead\":0,\"arrowwidth\":1},\"geo\":{\"bgcolor\":\"white\",\"landcolor\":\"#E5ECF6\",\"subunitcolor\":\"white\",\"showland\":true,\"showlakes\":true,\"lakecolor\":\"white\"},\"title\":{\"x\":0.05},\"mapbox\":{\"style\":\"light\"}}},\"title\":{\"text\":\"3D Scatter Plot\"},\"scene\":{\"xaxis\":{\"title\":{\"text\":\"X Axis\"}},\"yaxis\":{\"title\":{\"text\":\"Y Axis\"}},\"zaxis\":{\"title\":{\"text\":\"Z Axis\"}}}},                        {\"responsive\": true}                    ).then(function(){\n",
              "                            \n",
              "var gd = document.getElementById('4e622dbe-6af9-4fe7-8cf3-0e4f8c02da4d');\n",
              "var x = new MutationObserver(function (mutations, observer) {{\n",
              "        var display = window.getComputedStyle(gd).display;\n",
              "        if (!display || display === 'none') {{\n",
              "            console.log([gd, 'removed!']);\n",
              "            Plotly.purge(gd);\n",
              "            observer.disconnect();\n",
              "        }}\n",
              "}});\n",
              "\n",
              "// Listen for the removal of the full notebook cells\n",
              "var notebookContainer = gd.closest('#notebook-container');\n",
              "if (notebookContainer) {{\n",
              "    x.observe(notebookContainer, {childList: true});\n",
              "}}\n",
              "\n",
              "// Listen for the clearing of the current output cell\n",
              "var outputEl = gd.closest('.output');\n",
              "if (outputEl) {{\n",
              "    x.observe(outputEl, {childList: true});\n",
              "}}\n",
              "\n",
              "                        })                };                            </script>        </div>\n",
              "</body>\n",
              "</html>"
            ]
          },
          "metadata": {}
        }
      ]
    }
  ]
}